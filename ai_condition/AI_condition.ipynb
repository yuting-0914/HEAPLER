{
 "cells": [
  {
   "cell_type": "markdown",
   "id": "0a7a07b6",
   "metadata": {},
   "source": [
    "# IOT based Health Monitoring System using Different types of Machine Learning Algorithm.\n",
    "# 採監督式學習（有給答案）"
   ]
  },
  {
   "cell_type": "markdown",
   "id": "7056906a",
   "metadata": {},
   "source": [
    "# Package Importing"
   ]
  },
  {
   "cell_type": "code",
   "execution_count": 1,
   "id": "df4ea42a",
   "metadata": {},
   "outputs": [],
   "source": [
    "import pandas as pd\n",
    "import numpy as np\n",
    "import matplotlib.pyplot as plt\n",
    "import seaborn as sns\n",
    "import warnings\n",
    "warnings.filterwarnings('ignore')"
   ]
  },
  {
   "cell_type": "markdown",
   "id": "3e43b51b",
   "metadata": {},
   "source": [
    "# Dataset Reading"
   ]
  },
  {
   "cell_type": "code",
   "execution_count": 2,
   "id": "f80ba3dd",
   "metadata": {},
   "outputs": [
    {
     "data": {
      "text/html": [
       "<div>\n",
       "<style scoped>\n",
       "    .dataframe tbody tr th:only-of-type {\n",
       "        vertical-align: middle;\n",
       "    }\n",
       "\n",
       "    .dataframe tbody tr th {\n",
       "        vertical-align: top;\n",
       "    }\n",
       "\n",
       "    .dataframe thead th {\n",
       "        text-align: right;\n",
       "    }\n",
       "</style>\n",
       "<table border=\"1\" class=\"dataframe\">\n",
       "  <thead>\n",
       "    <tr style=\"text-align: right;\">\n",
       "      <th></th>\n",
       "      <th>SI.No</th>\n",
       "      <th>user id</th>\n",
       "      <th>temperature</th>\n",
       "      <th>Heart Rate</th>\n",
       "      <th>SPO2</th>\n",
       "      <th>target</th>\n",
       "    </tr>\n",
       "  </thead>\n",
       "  <tbody>\n",
       "    <tr>\n",
       "      <th>0</th>\n",
       "      <td>1</td>\n",
       "      <td>1</td>\n",
       "      <td>34.0</td>\n",
       "      <td>30</td>\n",
       "      <td>94</td>\n",
       "      <td>0</td>\n",
       "    </tr>\n",
       "    <tr>\n",
       "      <th>1</th>\n",
       "      <td>2</td>\n",
       "      <td>1</td>\n",
       "      <td>34.1</td>\n",
       "      <td>31</td>\n",
       "      <td>93</td>\n",
       "      <td>0</td>\n",
       "    </tr>\n",
       "    <tr>\n",
       "      <th>2</th>\n",
       "      <td>3</td>\n",
       "      <td>1</td>\n",
       "      <td>34.2</td>\n",
       "      <td>32</td>\n",
       "      <td>92</td>\n",
       "      <td>0</td>\n",
       "    </tr>\n",
       "    <tr>\n",
       "      <th>3</th>\n",
       "      <td>4</td>\n",
       "      <td>1</td>\n",
       "      <td>34.3</td>\n",
       "      <td>33</td>\n",
       "      <td>91</td>\n",
       "      <td>0</td>\n",
       "    </tr>\n",
       "    <tr>\n",
       "      <th>4</th>\n",
       "      <td>5</td>\n",
       "      <td>1</td>\n",
       "      <td>34.4</td>\n",
       "      <td>34</td>\n",
       "      <td>90</td>\n",
       "      <td>0</td>\n",
       "    </tr>\n",
       "    <tr>\n",
       "      <th>...</th>\n",
       "      <td>...</td>\n",
       "      <td>...</td>\n",
       "      <td>...</td>\n",
       "      <td>...</td>\n",
       "      <td>...</td>\n",
       "      <td>...</td>\n",
       "    </tr>\n",
       "    <tr>\n",
       "      <th>472</th>\n",
       "      <td>473</td>\n",
       "      <td>2</td>\n",
       "      <td>39.0</td>\n",
       "      <td>114</td>\n",
       "      <td>88</td>\n",
       "      <td>0</td>\n",
       "    </tr>\n",
       "    <tr>\n",
       "      <th>473</th>\n",
       "      <td>474</td>\n",
       "      <td>3</td>\n",
       "      <td>35.5</td>\n",
       "      <td>113</td>\n",
       "      <td>89</td>\n",
       "      <td>0</td>\n",
       "    </tr>\n",
       "    <tr>\n",
       "      <th>474</th>\n",
       "      <td>475</td>\n",
       "      <td>6</td>\n",
       "      <td>34.9</td>\n",
       "      <td>98</td>\n",
       "      <td>92</td>\n",
       "      <td>0</td>\n",
       "    </tr>\n",
       "    <tr>\n",
       "      <th>475</th>\n",
       "      <td>476</td>\n",
       "      <td>7</td>\n",
       "      <td>36.4</td>\n",
       "      <td>102</td>\n",
       "      <td>85</td>\n",
       "      <td>0</td>\n",
       "    </tr>\n",
       "    <tr>\n",
       "      <th>476</th>\n",
       "      <td>477</td>\n",
       "      <td>3</td>\n",
       "      <td>39.8</td>\n",
       "      <td>86</td>\n",
       "      <td>90</td>\n",
       "      <td>0</td>\n",
       "    </tr>\n",
       "  </tbody>\n",
       "</table>\n",
       "<p>477 rows × 6 columns</p>\n",
       "</div>"
      ],
      "text/plain": [
       "     SI.No  user id  temperature  Heart Rate  SPO2  target\n",
       "0        1        1         34.0          30    94       0\n",
       "1        2        1         34.1          31    93       0\n",
       "2        3        1         34.2          32    92       0\n",
       "3        4        1         34.3          33    91       0\n",
       "4        5        1         34.4          34    90       0\n",
       "..     ...      ...          ...         ...   ...     ...\n",
       "472    473        2         39.0         114    88       0\n",
       "473    474        3         35.5         113    89       0\n",
       "474    475        6         34.9          98    92       0\n",
       "475    476        7         36.4         102    85       0\n",
       "476    477        3         39.8          86    90       0\n",
       "\n",
       "[477 rows x 6 columns]"
      ]
     },
     "execution_count": 2,
     "metadata": {},
     "output_type": "execute_result"
    }
   ],
   "source": [
    "Input_data = pd.read_csv(\"dataset.csv\")\n",
    "Input_data"
   ]
  },
  {
   "cell_type": "markdown",
   "id": "0db0558a",
   "metadata": {},
   "source": [
    "# Data PreProcessing"
   ]
  },
  {
   "cell_type": "code",
   "execution_count": 3,
   "id": "5488a46d",
   "metadata": {},
   "outputs": [
    {
     "data": {
      "text/html": [
       "<div>\n",
       "<style scoped>\n",
       "    .dataframe tbody tr th:only-of-type {\n",
       "        vertical-align: middle;\n",
       "    }\n",
       "\n",
       "    .dataframe tbody tr th {\n",
       "        vertical-align: top;\n",
       "    }\n",
       "\n",
       "    .dataframe thead th {\n",
       "        text-align: right;\n",
       "    }\n",
       "</style>\n",
       "<table border=\"1\" class=\"dataframe\">\n",
       "  <thead>\n",
       "    <tr style=\"text-align: right;\">\n",
       "      <th></th>\n",
       "      <th>SI.No</th>\n",
       "      <th>user id</th>\n",
       "      <th>temperature</th>\n",
       "      <th>Heart Rate</th>\n",
       "      <th>SPO2</th>\n",
       "      <th>target</th>\n",
       "    </tr>\n",
       "  </thead>\n",
       "  <tbody>\n",
       "    <tr>\n",
       "      <th>0</th>\n",
       "      <td>1</td>\n",
       "      <td>1</td>\n",
       "      <td>34.0</td>\n",
       "      <td>30</td>\n",
       "      <td>94</td>\n",
       "      <td>0</td>\n",
       "    </tr>\n",
       "    <tr>\n",
       "      <th>1</th>\n",
       "      <td>2</td>\n",
       "      <td>1</td>\n",
       "      <td>34.1</td>\n",
       "      <td>31</td>\n",
       "      <td>93</td>\n",
       "      <td>0</td>\n",
       "    </tr>\n",
       "    <tr>\n",
       "      <th>2</th>\n",
       "      <td>3</td>\n",
       "      <td>1</td>\n",
       "      <td>34.2</td>\n",
       "      <td>32</td>\n",
       "      <td>92</td>\n",
       "      <td>0</td>\n",
       "    </tr>\n",
       "    <tr>\n",
       "      <th>3</th>\n",
       "      <td>4</td>\n",
       "      <td>1</td>\n",
       "      <td>34.3</td>\n",
       "      <td>33</td>\n",
       "      <td>91</td>\n",
       "      <td>0</td>\n",
       "    </tr>\n",
       "    <tr>\n",
       "      <th>4</th>\n",
       "      <td>5</td>\n",
       "      <td>1</td>\n",
       "      <td>34.4</td>\n",
       "      <td>34</td>\n",
       "      <td>90</td>\n",
       "      <td>0</td>\n",
       "    </tr>\n",
       "  </tbody>\n",
       "</table>\n",
       "</div>"
      ],
      "text/plain": [
       "   SI.No  user id  temperature  Heart Rate  SPO2  target\n",
       "0      1        1         34.0          30    94       0\n",
       "1      2        1         34.1          31    93       0\n",
       "2      3        1         34.2          32    92       0\n",
       "3      4        1         34.3          33    91       0\n",
       "4      5        1         34.4          34    90       0"
      ]
     },
     "execution_count": 3,
     "metadata": {},
     "output_type": "execute_result"
    }
   ],
   "source": [
    "Input_data.head()"
   ]
  },
  {
   "cell_type": "code",
   "execution_count": 4,
   "id": "56e26654",
   "metadata": {},
   "outputs": [
    {
     "data": {
      "text/html": [
       "<div>\n",
       "<style scoped>\n",
       "    .dataframe tbody tr th:only-of-type {\n",
       "        vertical-align: middle;\n",
       "    }\n",
       "\n",
       "    .dataframe tbody tr th {\n",
       "        vertical-align: top;\n",
       "    }\n",
       "\n",
       "    .dataframe thead th {\n",
       "        text-align: right;\n",
       "    }\n",
       "</style>\n",
       "<table border=\"1\" class=\"dataframe\">\n",
       "  <thead>\n",
       "    <tr style=\"text-align: right;\">\n",
       "      <th></th>\n",
       "      <th>SI.No</th>\n",
       "      <th>user id</th>\n",
       "      <th>temperature</th>\n",
       "      <th>Heart Rate</th>\n",
       "      <th>SPO2</th>\n",
       "      <th>target</th>\n",
       "    </tr>\n",
       "  </thead>\n",
       "  <tbody>\n",
       "    <tr>\n",
       "      <th>472</th>\n",
       "      <td>473</td>\n",
       "      <td>2</td>\n",
       "      <td>39.0</td>\n",
       "      <td>114</td>\n",
       "      <td>88</td>\n",
       "      <td>0</td>\n",
       "    </tr>\n",
       "    <tr>\n",
       "      <th>473</th>\n",
       "      <td>474</td>\n",
       "      <td>3</td>\n",
       "      <td>35.5</td>\n",
       "      <td>113</td>\n",
       "      <td>89</td>\n",
       "      <td>0</td>\n",
       "    </tr>\n",
       "    <tr>\n",
       "      <th>474</th>\n",
       "      <td>475</td>\n",
       "      <td>6</td>\n",
       "      <td>34.9</td>\n",
       "      <td>98</td>\n",
       "      <td>92</td>\n",
       "      <td>0</td>\n",
       "    </tr>\n",
       "    <tr>\n",
       "      <th>475</th>\n",
       "      <td>476</td>\n",
       "      <td>7</td>\n",
       "      <td>36.4</td>\n",
       "      <td>102</td>\n",
       "      <td>85</td>\n",
       "      <td>0</td>\n",
       "    </tr>\n",
       "    <tr>\n",
       "      <th>476</th>\n",
       "      <td>477</td>\n",
       "      <td>3</td>\n",
       "      <td>39.8</td>\n",
       "      <td>86</td>\n",
       "      <td>90</td>\n",
       "      <td>0</td>\n",
       "    </tr>\n",
       "  </tbody>\n",
       "</table>\n",
       "</div>"
      ],
      "text/plain": [
       "     SI.No  user id  temperature  Heart Rate  SPO2  target\n",
       "472    473        2         39.0         114    88       0\n",
       "473    474        3         35.5         113    89       0\n",
       "474    475        6         34.9          98    92       0\n",
       "475    476        7         36.4         102    85       0\n",
       "476    477        3         39.8          86    90       0"
      ]
     },
     "execution_count": 4,
     "metadata": {},
     "output_type": "execute_result"
    }
   ],
   "source": [
    "Input_data.tail()"
   ]
  },
  {
   "cell_type": "code",
   "execution_count": 5,
   "id": "0ea26982",
   "metadata": {},
   "outputs": [
    {
     "name": "stdout",
     "output_type": "stream",
     "text": [
      "<class 'pandas.core.frame.DataFrame'>\n",
      "RangeIndex: 477 entries, 0 to 476\n",
      "Data columns (total 6 columns):\n",
      " #   Column       Non-Null Count  Dtype  \n",
      "---  ------       --------------  -----  \n",
      " 0   SI.No        477 non-null    int64  \n",
      " 1   user id      477 non-null    int64  \n",
      " 2   temperature  477 non-null    float64\n",
      " 3   Heart Rate   477 non-null    int64  \n",
      " 4   SPO2         477 non-null    int64  \n",
      " 5   target       477 non-null    int64  \n",
      "dtypes: float64(1), int64(5)\n",
      "memory usage: 22.5 KB\n"
     ]
    }
   ],
   "source": [
    "Input_data.info()"
   ]
  },
  {
   "cell_type": "code",
   "execution_count": 6,
   "id": "06a68fb5",
   "metadata": {},
   "outputs": [
    {
     "data": {
      "text/plain": [
       "SI.No          0\n",
       "user id        0\n",
       "temperature    0\n",
       "Heart Rate     0\n",
       "SPO2           0\n",
       "target         0\n",
       "dtype: int64"
      ]
     },
     "execution_count": 6,
     "metadata": {},
     "output_type": "execute_result"
    }
   ],
   "source": [
    "Input_data.isnull().sum()"
   ]
  },
  {
   "cell_type": "code",
   "execution_count": 7,
   "id": "1ec4117d",
   "metadata": {},
   "outputs": [
    {
     "data": {
      "text/plain": [
       "0    300\n",
       "2    140\n",
       "1     37\n",
       "Name: target, dtype: int64"
      ]
     },
     "execution_count": 7,
     "metadata": {},
     "output_type": "execute_result"
    }
   ],
   "source": [
    "Input_data['target'].value_counts()"
   ]
  },
  {
   "cell_type": "code",
   "execution_count": 8,
   "id": "509c08d7",
   "metadata": {},
   "outputs": [
    {
     "data": {
      "text/plain": [
       "(477, 6)"
      ]
     },
     "execution_count": 8,
     "metadata": {},
     "output_type": "execute_result"
    }
   ],
   "source": [
    "Input_data.shape"
   ]
  },
  {
   "cell_type": "code",
   "execution_count": 9,
   "id": "278c0095",
   "metadata": {},
   "outputs": [
    {
     "data": {
      "text/plain": [
       "<Axes: >"
      ]
     },
     "execution_count": 9,
     "metadata": {},
     "output_type": "execute_result"
    },
    {
     "data": {
      "image/png": "[encoded data removed]",
      "text/plain": [
       "<Figure size 500x500 with 2 Axes>"
      ]
     },
     "metadata": {},
     "output_type": "display_data"
    }
   ],
   "source": [
    "import seaborn as sns\n",
    "corr = Input_data.corr()\n",
    "plt.subplots(figsize=(5,5))\n",
    "sns.heatmap(corr, annot = True)"
   ]
  },
  {
   "cell_type": "markdown",
   "id": "e109a015",
   "metadata": {},
   "source": [
    "# Model Implementation"
   ]
  },
  {
   "cell_type": "code",
   "execution_count": 1,
   "id": "ef8d342d",
   "metadata": {},
   "outputs": [
    {
     "ename": "NameError",
     "evalue": "name 'Input_data' is not defined",
     "output_type": "error",
     "traceback": [
      "\u001b[1;31m---------------------------------------------------------------------------\u001b[0m",
      "\u001b[1;31mNameError\u001b[0m                                 Traceback (most recent call last)",
      "Cell \u001b[1;32mIn[1], line 1\u001b[0m\n\u001b[1;32m----> 1\u001b[0m X \u001b[38;5;241m=\u001b[39m \u001b[43mInput_data\u001b[49m\u001b[38;5;241m.\u001b[39mdrop([\u001b[38;5;124m'\u001b[39m\u001b[38;5;124mtarget\u001b[39m\u001b[38;5;124m'\u001b[39m, \u001b[38;5;124m'\u001b[39m\u001b[38;5;124mSI.No\u001b[39m\u001b[38;5;124m'\u001b[39m, \u001b[38;5;124m'\u001b[39m\u001b[38;5;124muser id\u001b[39m\u001b[38;5;124m'\u001b[39m], axis\u001b[38;5;241m=\u001b[39m\u001b[38;5;241m1\u001b[39m)\n\u001b[0;32m      2\u001b[0m Y \u001b[38;5;241m=\u001b[39m Input_data[\u001b[38;5;124m'\u001b[39m\u001b[38;5;124mtarget\u001b[39m\u001b[38;5;124m'\u001b[39m]\n\u001b[0;32m      3\u001b[0m \u001b[38;5;28;01mfrom\u001b[39;00m \u001b[38;5;21;01msklearn\u001b[39;00m\u001b[38;5;21;01m.\u001b[39;00m\u001b[38;5;21;01mmodel_selection\u001b[39;00m \u001b[38;5;28;01mimport\u001b[39;00m train_test_split\n",
      "\u001b[1;31mNameError\u001b[0m: name 'Input_data' is not defined"
     ]
    }
   ],
   "source": [
    "X = Input_data.drop(['target', 'SI.No', 'user id'], axis=1)\n",
    "X"
   ]
  },
  {
   "cell_type": "code",
   "execution_count": 11,
   "id": "8ad056af",
   "metadata": {},
   "outputs": [
    {
     "data": {
      "text/plain": [
       "0      0\n",
       "1      0\n",
       "2      0\n",
       "3      0\n",
       "4      0\n",
       "      ..\n",
       "472    0\n",
       "473    0\n",
       "474    0\n",
       "475    0\n",
       "476    0\n",
       "Name: target, Length: 477, dtype: int64"
      ]
     },
     "execution_count": 11,
     "metadata": {},
     "output_type": "execute_result"
    }
   ],
   "source": [
    "Y = Input_data['target']\n",
    "Y "
   ]
  },
  {
   "cell_type": "code",
   "execution_count": 12,
   "id": "9a855684",
   "metadata": {},
   "outputs": [],
   "source": [
    "from sklearn.model_selection import train_test_split\n",
    "x_train1,x_test1,y_train1,y_test1 =  train_test_split(X,Y,random_state=42,test_size=0.2,shuffle=True)"
   ]
  },
  {
   "cell_type": "code",
   "execution_count": 13,
   "id": "8ae5aa8b",
   "metadata": {},
   "outputs": [
    {
     "name": "stdout",
     "output_type": "stream",
     "text": [
      "Accuracy of Naive Bayes Algorithm 0.5208333333333334\n"
     ]
    }
   ],
   "source": [
    "from sklearn.naive_bayes import MultinomialNB \n",
    "from sklearn import metrics\n",
    "NB_Algorithm = MultinomialNB()\n",
    "NB_Algorithm.fit(x_train1, y_train1)\n",
    "NB_Algorithm_Prediction = NB_Algorithm.predict(x_test1)\n",
    "Accuracy_NB = metrics.accuracy_score(y_test1, NB_Algorithm_Prediction)\n",
    "print('Accuracy of Naive Bayes Algorithm', Accuracy_NB)"
   ]
  },
  {
   "cell_type": "code",
   "execution_count": 14,
   "id": "696382c6",
   "metadata": {},
   "outputs": [
    {
     "data": {
      "text/plain": [
       "array([0, 2, 2, 0, 0, 0, 0, 2, 0, 2, 2, 0, 0, 2, 0, 2, 2, 0, 0, 2, 2, 0,\n",
       "       0, 0, 2, 0, 2, 0, 2, 2, 2, 0, 2, 0, 0, 2, 2, 0, 2, 0, 2, 2, 0, 0,\n",
       "       0, 0, 0, 0, 0, 2, 2, 0, 2, 0, 0, 0, 0, 2, 0, 2, 2, 0, 2, 2, 2, 0,\n",
       "       0, 0, 2, 2, 2, 0, 2, 2, 0, 2, 0, 0, 2, 0, 0, 0, 0, 0, 0, 0, 2, 0,\n",
       "       2, 2, 0, 2, 2, 0, 0, 0], dtype=int64)"
      ]
     },
     "execution_count": 14,
     "metadata": {},
     "output_type": "execute_result"
    }
   ],
   "source": [
    "NB_Algorithm_Prediction"
   ]
  },
  {
   "cell_type": "code",
   "execution_count": 15,
   "id": "73dcfae0",
   "metadata": {},
   "outputs": [
    {
     "name": "stdout",
     "output_type": "stream",
     "text": [
      "              precision    recall  f1-score   support\n",
      "\n",
      "           0       0.70      0.57      0.63        67\n",
      "           1       0.00      0.00      0.00         4\n",
      "           2       0.29      0.48      0.36        25\n",
      "\n",
      "    accuracy                           0.52        96\n",
      "   macro avg       0.33      0.35      0.33        96\n",
      "weighted avg       0.57      0.52      0.53        96\n",
      "\n"
     ]
    },
    {
     "data": {
      "image/png": "[encoded data removed]",
      "text/plain": [
       "<Figure size 640x480 with 2 Axes>"
      ]
     },
     "metadata": {},
     "output_type": "display_data"
    }
   ],
   "source": [
    "# 顯示混淆矩陣和分類報告\n",
    "from sklearn.metrics import classification_report, confusion_matrix\n",
    "CM_NB=confusion_matrix(y_test1, NB_Algorithm_Prediction)\n",
    "sns.heatmap(CM_NB, annot=True, fmt='d', cmap='YlGnBu')\n",
    "print(classification_report(y_test1, NB_Algorithm_Prediction))"
   ]
  },
  {
   "cell_type": "markdown",
   "id": "d1498af8-60d2-4e54-8ca6-4a22595b4508",
   "metadata": {},
   "source": [
    "# Decision Tree Algorithm"
   ]
  },
  {
   "cell_type": "code",
   "execution_count": 16,
   "id": "edf2b7ab",
   "metadata": {},
   "outputs": [
    {
     "name": "stdout",
     "output_type": "stream",
     "text": [
      "Accuracy of Decision Tree Algorithm 0.9895833333333334\n"
     ]
    }
   ],
   "source": [
    "from sklearn.tree import DecisionTreeClassifier\n",
    "from sklearn.metrics import accuracy_score\n",
    "DT_Algorithm = DecisionTreeClassifier()\n",
    "DT_Algorithm.fit(x_train1, y_train1)\n",
    "DT_Algorithm_Prediction = DT_Algorithm.predict(x_test1)\n",
    "Accuracy_DT = accuracy_score(y_test1, DT_Algorithm_Prediction)\n",
    "print('Accuracy of Decision Tree Algorithm', Accuracy_DT)"
   ]
  },
  {
   "cell_type": "code",
   "execution_count": 17,
   "id": "fc57daec",
   "metadata": {},
   "outputs": [
    {
     "data": {
      "text/plain": [
       "array([0, 2, 1, 0, 0, 0, 2, 2, 2, 0, 0, 0, 0, 0, 0, 0, 0, 1, 0, 2, 0, 2,\n",
       "       0, 0, 0, 0, 0, 0, 0, 2, 2, 2, 0, 2, 2, 2, 0, 0, 0, 0, 2, 0, 0, 0,\n",
       "       0, 0, 0, 0, 0, 2, 0, 0, 0, 2, 2, 0, 0, 0, 0, 2, 0, 0, 2, 0, 0, 0,\n",
       "       0, 0, 0, 2, 0, 0, 0, 0, 0, 0, 0, 0, 0, 0, 0, 2, 2, 2, 2, 1, 0, 0,\n",
       "       0, 0, 0, 0, 2, 2, 0, 0], dtype=int64)"
      ]
     },
     "execution_count": 17,
     "metadata": {},
     "output_type": "execute_result"
    }
   ],
   "source": [
    "DT_Algorithm_Prediction"
   ]
  },
  {
   "cell_type": "code",
   "execution_count": 18,
   "id": "0d749966",
   "metadata": {},
   "outputs": [
    {
     "name": "stdout",
     "output_type": "stream",
     "text": [
      "              precision    recall  f1-score   support\n",
      "\n",
      "           0       0.99      1.00      0.99        67\n",
      "           1       1.00      0.75      0.86         4\n",
      "           2       1.00      1.00      1.00        25\n",
      "\n",
      "    accuracy                           0.99        96\n",
      "   macro avg       1.00      0.92      0.95        96\n",
      "weighted avg       0.99      0.99      0.99        96\n",
      "\n"
     ]
    },
    {
     "data": {
      "image/png": "[encoded data removed]",
      "text/plain": [
       "<Figure size 640x480 with 2 Axes>"
      ]
     },
     "metadata": {},
     "output_type": "display_data"
    }
   ],
   "source": [
    "from sklearn.metrics import classification_report, confusion_matrix\n",
    "CM_DT=confusion_matrix(y_test1, DT_Algorithm_Prediction)\n",
    "sns.heatmap(CM_DT, annot=True, fmt='d', cmap='YlGnBu')\n",
    "print(classification_report(y_test1, DT_Algorithm_Prediction))"
   ]
  },
  {
   "cell_type": "code",
   "execution_count": 19,
   "id": "32a7acdf-baec-4b91-84b8-d8da037450f3",
   "metadata": {},
   "outputs": [
    {
     "name": "stdout",
     "output_type": "stream",
     "text": [
      "Accuracy of Random Forest Algorithm 0.9791666666666666\n"
     ]
    }
   ],
   "source": [
    "from sklearn.ensemble import RandomForestClassifier\n",
    "from sklearn.metrics import accuracy_score\n",
    "RF_Algorithm = RandomForestClassifier()\n",
    "RF_Algorithm.fit(x_train1, y_train1)\n",
    "RF_Algorithm_Prediction = RF_Algorithm.predict(x_test1)\n",
    "Accuracy_RF = accuracy_score(y_test1, RF_Algorithm_Prediction)\n",
    "print('Accuracy of Random Forest Algorithm', Accuracy_RF)"
   ]
  },
  {
   "cell_type": "code",
   "execution_count": 20,
   "id": "e254cea1-4ffe-4610-a330-f3523169f91a",
   "metadata": {},
   "outputs": [
    {
     "name": "stdout",
     "output_type": "stream",
     "text": [
      "              precision    recall  f1-score   support\n",
      "\n",
      "           0       0.99      0.99      0.99        67\n",
      "           1       0.75      0.75      0.75         4\n",
      "           2       1.00      1.00      1.00        25\n",
      "\n",
      "    accuracy                           0.98        96\n",
      "   macro avg       0.91      0.91      0.91        96\n",
      "weighted avg       0.98      0.98      0.98        96\n",
      "\n"
     ]
    },
    {
     "data": {
      "image/png": "[encoded data removed]",
      "text/plain": [
       "<Figure size 640x480 with 2 Axes>"
      ]
     },
     "metadata": {},
     "output_type": "display_data"
    }
   ],
   "source": [
    "from sklearn.metrics import classification_report, confusion_matrix\n",
    "CM_RF=confusion_matrix(y_test1, RF_Algorithm_Prediction)\n",
    "sns.heatmap(CM_RF, annot=True, fmt='d', cmap='YlGnBu')\n",
    "print(classification_report(y_test1, RF_Algorithm_Prediction))"
   ]
  },
  {
   "cell_type": "code",
   "execution_count": 21,
   "id": "bab7b97b-9647-4445-afb6-6d26b6cdfb88",
   "metadata": {
    "editable": true,
    "slideshow": {
     "slide_type": ""
    },
    "tags": []
   },
   "outputs": [
    {
     "name": "stdout",
     "output_type": "stream",
     "text": [
      "Accuracy of Logistic Regression Algorithm 0.7604166666666666\n"
     ]
    }
   ],
   "source": [
    "from sklearn.linear_model import LogisticRegression\n",
    "LR_Algorithm = LogisticRegression()\n",
    "LR_Algorithm.fit(x_train1, y_train1)\n",
    "LR_Algorithm_Prediction = LR_Algorithm.predict(x_test1)\n",
    "Accuracy_LR = accuracy_score(y_test1, LR_Algorithm_Prediction)\n",
    "print('Accuracy of Logistic Regression Algorithm', Accuracy_LR)"
   ]
  },
  {
   "cell_type": "code",
   "execution_count": 22,
   "id": "d434bd07-ceaf-45b5-b165-93fd0afe6a14",
   "metadata": {},
   "outputs": [
    {
     "data": {
      "text/plain": [
       "array([0, 0, 2, 0, 0, 2, 2, 2, 0, 0, 0, 0, 0, 0, 0, 0, 0, 2, 0, 2, 0, 2,\n",
       "       0, 0, 0, 2, 0, 0, 0, 0, 2, 0, 0, 0, 2, 0, 0, 0, 2, 0, 2, 0, 0, 2,\n",
       "       0, 0, 0, 0, 0, 2, 2, 0, 0, 2, 2, 0, 0, 0, 2, 2, 2, 0, 0, 2, 2, 0,\n",
       "       0, 0, 0, 0, 0, 0, 0, 0, 0, 0, 0, 0, 0, 0, 0, 2, 2, 2, 2, 2, 2, 0,\n",
       "       0, 0, 0, 0, 0, 0, 0, 0], dtype=int64)"
      ]
     },
     "execution_count": 22,
     "metadata": {},
     "output_type": "execute_result"
    }
   ],
   "source": [
    "LR_Algorithm_Prediction"
   ]
  },
  {
   "cell_type": "code",
   "execution_count": 23,
   "id": "96c6fbf1",
   "metadata": {},
   "outputs": [
    {
     "name": "stdout",
     "output_type": "stream",
     "text": [
      "              precision    recall  f1-score   support\n",
      "\n",
      "           0       0.85      0.87      0.86        67\n",
      "           1       0.00      0.00      0.00         4\n",
      "           2       0.54      0.60      0.57        25\n",
      "\n",
      "    accuracy                           0.76        96\n",
      "   macro avg       0.46      0.49      0.48        96\n",
      "weighted avg       0.73      0.76      0.75        96\n",
      "\n"
     ]
    },
    {
     "data": {
      "image/png": "[encoded data removed]",
      "text/plain": [
       "<Figure size 640x480 with 2 Axes>"
      ]
     },
     "metadata": {},
     "output_type": "display_data"
    }
   ],
   "source": [
    "from sklearn.metrics import classification_report, confusion_matrix\n",
    "CM_LR=confusion_matrix(y_test1, LR_Algorithm_Prediction)\n",
    "sns.heatmap(CM_LR, annot=True, fmt='d', cmap='YlGnBu')\n",
    "print(classification_report(y_test1, LR_Algorithm_Prediction))"
   ]
  },
  {
   "cell_type": "code",
   "execution_count": 24,
   "id": "7e89e41c",
   "metadata": {},
   "outputs": [
    {
     "name": "stdout",
     "output_type": "stream",
     "text": [
      "Accuracy of Support Vector Machine Algorithm 0.7604166666666666\n"
     ]
    }
   ],
   "source": [
    "from sklearn.svm import SVC\n",
    "SVM_Algorithm = SVC()\n",
    "SVM_Algorithm.fit(x_train1, y_train1)\n",
    "SVM_Algorithm_Prediction = SVM_Algorithm.predict(x_test1)\n",
    "Accuracy_SVM = accuracy_score(y_test1, LR_Algorithm_Prediction)\n",
    "print('Accuracy of Support Vector Machine Algorithm', Accuracy_SVM)"
   ]
  },
  {
   "cell_type": "code",
   "execution_count": 25,
   "id": "dd88ecb6",
   "metadata": {},
   "outputs": [
    {
     "data": {
      "text/plain": [
       "array([0, 2, 0, 0, 0, 0, 2, 2, 2, 0, 0, 0, 0, 0, 0, 0, 0, 0, 0, 2, 0, 2,\n",
       "       0, 0, 0, 2, 0, 0, 2, 2, 2, 2, 2, 2, 2, 2, 0, 0, 0, 0, 2, 0, 0, 2,\n",
       "       0, 0, 0, 0, 0, 2, 2, 0, 0, 2, 2, 0, 0, 0, 2, 2, 2, 0, 2, 2, 0, 0,\n",
       "       0, 2, 0, 2, 0, 0, 0, 0, 0, 0, 0, 0, 0, 0, 0, 2, 2, 2, 2, 0, 0, 0,\n",
       "       0, 0, 0, 2, 2, 2, 0, 0], dtype=int64)"
      ]
     },
     "execution_count": 25,
     "metadata": {},
     "output_type": "execute_result"
    }
   ],
   "source": [
    "SVM_Algorithm_Prediction"
   ]
  },
  {
   "cell_type": "code",
   "execution_count": 26,
   "id": "6103c6c8",
   "metadata": {},
   "outputs": [
    {
     "name": "stdout",
     "output_type": "stream",
     "text": [
      "              precision    recall  f1-score   support\n",
      "\n",
      "           0       0.93      0.85      0.89        67\n",
      "           1       0.00      0.00      0.00         4\n",
      "           2       0.71      1.00      0.83        25\n",
      "\n",
      "    accuracy                           0.85        96\n",
      "   macro avg       0.55      0.62      0.57        96\n",
      "weighted avg       0.84      0.85      0.84        96\n",
      "\n"
     ]
    },
    {
     "data": {
      "image/png": "[encoded data removed]",
      "text/plain": [
       "<Figure size 640x480 with 2 Axes>"
      ]
     },
     "metadata": {},
     "output_type": "display_data"
    }
   ],
   "source": [
    "from sklearn.metrics import classification_report, confusion_matrix\n",
    "CM_SVM=confusion_matrix(y_test1, SVM_Algorithm_Prediction)\n",
    "sns.heatmap(CM_SVM, annot=True, fmt='d', cmap='YlGnBu')\n",
    "print(classification_report(y_test1, SVM_Algorithm_Prediction))"
   ]
  },
  {
   "cell_type": "code",
   "execution_count": 27,
   "id": "640ac0a8-2092-48ed-9ad3-e66233297690",
   "metadata": {},
   "outputs": [
    {
     "name": "stdout",
     "output_type": "stream",
     "text": [
      "Accuracy of k-Nearest Neighbors algorithm 0.8854166666666666\n"
     ]
    }
   ],
   "source": [
    "from sklearn.neighbors import KNeighborsClassifier\n",
    "KNN_Algorithm = KNeighborsClassifier()\n",
    "KNN_Algorithm.fit(x_train1, y_train1)\n",
    "KNN_Algorithm_Prediction = KNN_Algorithm.predict(x_test1)\n",
    "Accuracy_KNN = accuracy_score(y_test1, KNN_Algorithm_Prediction)\n",
    "print('Accuracy of k-Nearest Neighbors algorithm', Accuracy_KNN)"
   ]
  },
  {
   "cell_type": "code",
   "execution_count": 28,
   "id": "3f161678-a16b-4ea9-8c46-22da3a10fa35",
   "metadata": {},
   "outputs": [
    {
     "name": "stdout",
     "output_type": "stream",
     "text": [
      "              precision    recall  f1-score   support\n",
      "\n",
      "           0       0.95      0.88      0.91        67\n",
      "           1       0.50      0.50      0.50         4\n",
      "           2       0.80      0.96      0.87        25\n",
      "\n",
      "    accuracy                           0.89        96\n",
      "   macro avg       0.75      0.78      0.76        96\n",
      "weighted avg       0.89      0.89      0.89        96\n",
      "\n"
     ]
    },
    {
     "data": {
      "image/png": "[encoded data removed]",
      "text/plain": [
       "<Figure size 640x480 with 2 Axes>"
      ]
     },
     "metadata": {},
     "output_type": "display_data"
    }
   ],
   "source": [
    "from sklearn.metrics import classification_report, confusion_matrix\n",
    "CM_KNN=confusion_matrix(y_test1, KNN_Algorithm_Prediction)\n",
    "sns.heatmap(CM_KNN, annot=True, fmt='d', cmap='YlGnBu')\n",
    "print(classification_report(y_test1, KNN_Algorithm_Prediction))"
   ]
  },
  {
   "cell_type": "code",
   "execution_count": 29,
   "id": "0be4d6d7",
   "metadata": {},
   "outputs": [
    {
     "data": {
      "text/plain": [
       "Text(0.5, 1.0, 'Comparison Graph of all the Algorithm')"
      ]
     },
     "execution_count": 29,
     "metadata": {},
     "output_type": "execute_result"
    },
    {
     "data": {
      "image/png": "[encoded data removed]",
      "text/plain": [
       "<Figure size 600x500 with 1 Axes>"
      ]
     },
     "metadata": {},
     "output_type": "display_data"
    }
   ],
   "source": [
    "# 建立長條圖比較各個演算法的正確率\n",
    "model_accuracy = pd.Series(data=[Accuracy_NB,Accuracy_DT,Accuracy_RF,Accuracy_LR,Accuracy_SVM,Accuracy_KNN], \n",
    "                index=['Naive Bayes','Decision Tree','Random Forest','Logistic Regression','Support Vector Machine','KNN'])\n",
    "fig= plt.figure(figsize=(6,5))\n",
    "model_accuracy.sort_values().plot.barh()\n",
    "plt.title('Comparison Graph of all the Algorithm')"
   ]
  },
  {
   "cell_type": "markdown",
   "id": "940ab6d7-de7b-4ec4-a8ca-95bf8e90a485",
   "metadata": {},
   "source": [
    "# Final Prediction Model"
   ]
  },
  {
   "cell_type": "markdown",
   "id": "bc5749ab",
   "metadata": {},
   "source": [
    "# import firebase"
   ]
  },
  {
   "cell_type": "code",
   "execution_count": 30,
   "id": "6df9b88f-79a2-42d9-ac26-8e6cba181ce3",
   "metadata": {},
   "outputs": [
    {
     "data": {
      "text/plain": [
       "<firebase_admin.App at 0x20527402b60>"
      ]
     },
     "execution_count": 30,
     "metadata": {},
     "output_type": "execute_result"
    }
   ],
   "source": [
    "import firebase_admin\n",
    "from firebase_admin import credentials\n",
    "from firebase_admin import db\n",
    "\n",
    "# Fetch the service account key JSON file contents\n",
    "cred = credentials.Certificate(\"your\")\n",
    "# Initialize the app with a service account, granting admin privileges\n",
    "firebase_admin.initialize_app(cred, {\n",
    "    'databaseURL': 'your_databaseURL'\n",
    "})"
   ]
  },
  {
   "cell_type": "code",
   "execution_count": 31,
   "id": "26d74f4f-ebf2-4680-9f35-39b2a416e6bf",
   "metadata": {},
   "outputs": [
    {
     "name": "stdout",
     "output_type": "stream",
     "text": [
      "[34.0, 23, 96] : 請留意您的身體狀況\n",
      "[33.9, 23, 96] : 請留意您的身體狀況\n",
      "[33.9, 23, 96] : 請留意您的身體狀況\n",
      "[33.9, 23, 96] : 請留意您的身體狀況\n"
     ]
    },
    {
     "ename": "KeyboardInterrupt",
     "evalue": "",
     "output_type": "error",
     "traceback": [
      "\u001b[1;31m---------------------------------------------------------------------------\u001b[0m",
      "\u001b[1;31mKeyboardInterrupt\u001b[0m                         Traceback (most recent call last)",
      "Cell \u001b[1;32mIn[31], line 29\u001b[0m\n\u001b[0;32m     26\u001b[0m         data1 \u001b[38;5;241m=\u001b[39m {\u001b[38;5;124m'\u001b[39m\u001b[38;5;124mcondition\u001b[39m\u001b[38;5;124m'\u001b[39m:\u001b[38;5;124m'\u001b[39m\u001b[38;5;124m狀態良好\u001b[39m\u001b[38;5;124m'\u001b[39m}\n\u001b[0;32m     27\u001b[0m     ref\u001b[38;5;241m.\u001b[39mupdate(data1)\n\u001b[1;32m---> 29\u001b[0m \u001b[43mtime\u001b[49m\u001b[38;5;241;43m.\u001b[39;49m\u001b[43msleep\u001b[49m\u001b[43m(\u001b[49m\u001b[38;5;241;43m5\u001b[39;49m\u001b[43m)\u001b[49m\n",
      "\u001b[1;31mKeyboardInterrupt\u001b[0m: "
     ]
    }
   ],
   "source": [
    "import time\n",
    "# Create a reference to the database\n",
    "ref = db.reference()\n",
    "low = 'condition low'\n",
    "medium = 'condition medium'\n",
    "high = 'condition high'\n",
    "\n",
    "# Read data from the database\n",
    "while True:\n",
    "    data = ref.get()\n",
    "    if data:\n",
    "        # 提取所需的数据并以[temp, heart rate, spo2]的形式输出\n",
    "        Final_Prediction_data = [data.get('temp'), data.get('heart rate'), data.get('spo2')]\n",
    "        Final_Prediction_data2 = np.array(Final_Prediction_data)\n",
    "        Final_Prediction_data2 = Final_Prediction_data2.reshape(1,-1)\n",
    "        Final_prediction = DT_Algorithm.predict(Final_Prediction_data2)\n",
    "        \n",
    "        if Final_prediction == 0:\n",
    "            print(Final_Prediction_data,\": 請留意您的身體狀況\")\n",
    "            data1 = {'condition':'請留意您的身體狀況'}\n",
    "        elif Final_prediction == 1:\n",
    "            print(Final_Prediction_data,\": 狀態正常\")\n",
    "            data1 = {'condition':'狀態正常'}\n",
    "        else:\n",
    "            print(Final_Prediction_data,\": 狀態良好\")\n",
    "            data1 = {'condition':'狀態良好'}\n",
    "        ref.update(data1)\n",
    "        \n",
    "    time.sleep(5)"
   ]
  },
  {
   "cell_type": "code",
   "execution_count": null,
   "id": "40f60314-6fe4-46fa-ab9d-d4ba356e2c07",
   "metadata": {},
   "outputs": [],
   "source": []
  }
 ],
 "metadata": {
  "kernelspec": {
   "display_name": "Python 3 (ipykernel)",
   "language": "python",
   "name": "python3"
  },
  "language_info": {
   "codemirror_mode": {
    "name": "ipython",
    "version": 3
   },
   "file_extension": ".py",
   "mimetype": "text/x-python",
   "name": "python",
   "nbconvert_exporter": "python",
   "pygments_lexer": "ipython3",
   "version": "3.10.0"
  }
 },
 "nbformat": 4,
 "nbformat_minor": 5
}
